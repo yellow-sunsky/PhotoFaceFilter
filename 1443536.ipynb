{
 "cells": [
  {
   "cell_type": "markdown",
   "metadata": {
    "collapsed": false
   },
   "source": [
    "# 通过PaddleHub在一组图片中筛选出含有人脸的照片\n",
    "\n",
    "本示例利用Ultra-Light-Fast-Generic-Face-Detector-1MB模型完成人脸检测。该模型是针对边缘计算设备或低算力设备(如用ARM推理)设计的实时超轻量级通用人脸检测模型，可以在低算力设备中如用ARM进行实时的通用场景的人脸检测推理。\n",
    "\n",
    "\n",
    "**NOTE：** "
   ]
  },
  {
   "cell_type": "markdown",
   "metadata": {
    "collapsed": false
   },
   "source": [
    "## 一、定义待预测数据\n",
    "\n",
    "\n",
    "以本示例中文件夹下test_face_detection.jpg为待预测图片"
   ]
  },
  {
   "cell_type": "code",
   "execution_count": null,
   "metadata": {
    "collapsed": false
   },
   "outputs": [
    {
     "name": "stdout",
     "output_type": "stream",
     "text": [

     ]
    }
   ],
   "source": [
    "!pip install paddlehub==1.6.2 -i https://pypi.tuna.tsinghua.edu.cn/simple\r\n",
    "!pip install pytest-shutil"
   ]
  },
  {
   "cell_type": "markdown",
   "metadata": {
    "collapsed": false
   },
   "source": [
    "\n",
    "若是待预测图片存放在一个文件中，如左侧文件夹所示的test.txt。每一行是待预测图片的存放路径。"
   ]
  },
  {
   "cell_type": "code",
   "execution_count": null,
   "metadata": {
    "collapsed": false
   },
   "outputs": [
    {
     "name": "stdout",
     "output_type": "stream",
     "text": [
      "Archive:  faceselect3.zip\n",
      "replace input3/snsb_12524534943442079825.jpg? [y]es, [n]o, [A]ll, [N]one, [r]ename: ^C\n"
     ]
    }
   ],
   "source": [
    "!cat faceselect3.* > faceselect3.zip\r\n",
    "!unzip faceselect3.zip -d input3"
   ]
  },
  {
   "cell_type": "code",
   "execution_count": null,
   "metadata": {
    "collapsed": false
   },
   "outputs": [
    {
     "name": "stdout",
     "output_type": "stream",
     "text": [
      "  inflating: input/snst_sns_table_-5058917188251406282.jpg  \r"
     ]
    }
   ],
   "source": [
    "!cat zip/faceoutput.* > faceselect.zip\r\n",
    "!unzip faceselect.zip -d input"
   ]
  },
  {
   "cell_type": "code",
   "execution_count": null,
   "metadata": {
    "collapsed": false
   },
   "outputs": [],
   "source": [
    "ls -R ./input/*.jpg  > test.txt"
   ]
  },
  {
   "cell_type": "code",
   "execution_count": null,
   "metadata": {
    "collapsed": false
   },
   "outputs": [
    {
     "name": "stdout",
     "output_type": "stream",
     "text": [
      "./input/snst_sns_table_-5058917188251406282.jpg\r"
     ]
    }
   ],
   "source": [
    "!cat test.txt"
   ]
  },
  {
   "cell_type": "markdown",
   "metadata": {
    "collapsed": false
   },
   "source": [
    "\n",
    "用户想要利用Ultra-Light-Fast-Generic-Face-Detector-1MB完成对该文件的人脸检测，只需读入该文件，将文件内容存成list，list中每个元素是待预测图片的存放路径。"
   ]
  },
  {
   "cell_type": "code",
   "execution_count": null,
   "metadata": {
    "collapsed": false
   },
   "outputs": [
    {
     "name": "stdout",
     "output_type": "stream",
     "text": [
      "['./input3/snsb_12524534943442079825.jpg', './input3/snsb_12829649025548824644.jpg', './input3/snsb_13434712757273432185.jpg', './input3/snsb_13434712757284966542.jpg', './input3/snsb_13449052696045367391.jpg', './input3/snsb_13449052696085082184.jpg', './input3/snsb_13452215356121223225.jpg', './input3/snsb_13452215356140621877.jpg', './input3/snsb_13453434931673108602.jpg', './input3/snsb_13458501884821319772.jpg', './input3/snsb_13462232141495603269.jpg', './input3/snsb_13462232141512446021.jpg', './input3/snsb_13462232141534072896.jpg', './input3/snsb_13462232141540102214.jpg', './input3/snsb_13462337265449570425.jpg', './input3/snsb_13462457479382831167.jpg', './input3/snsb_13466654361081483353.jpg', './input3/snsb_13466654361093935157.jpg', './input3/snsb_13466654361108287559.jpg', './input3/snsb_13466654361121591357.jpg', './input3/snsb_13466654361142956110.jpg', './input3/snsb_13466654361152786485.jpg', './input3/snsb_13466683458913046592.jpg', './input3/snsb_13466683458931724353.jpg', './input3/snsb_13466683458947059807.jpg', './input3/snsb_13466683458953613384.jpg', './input3/snsb_13466683458981335131.jpg', './input3/snsb_13466683459007483969.jpg', './input3/snsb_13466683459014824005.jpg', './input3/snsb_13468853234909384790.jpg', './input3/snsb_13468853234934878277.jpg', './input3/snsb_13469528838712864836.jpg', './input3/snsb_13472302908463067232.jpg', './input3/snsb_13472318765277196483.jpg', './input3/snsb_13472340919794020492.jpg', './input3/snsb_13472340919820497014.jpg', './input3/snsb_13472340919844614258.jpg', './input3/snsb_13472340919897829519.jpg', './input3/snsb_13472355783934685332.jpg', './input3/snsb_13472355783974465672.jpg', './input3/snsb_13472399200521556064.jpg', './input3/snsb_13472438990822912095.jpg', './input3/snsb_13472438990867869769.jpg', './input3/snsb_13472438990898671668.jpg', './input3/snsb_13472438990936027198.jpg', './input3/snsb_13472439981858697395.jpg', './input3/snsb_13472439981872918709.jpg', './input3/snsb_13472439981886943383.jpg', './input3/snsb_13472463456687763626.jpg', './input3/snsb_13472464919244910736.jpg', './input3/snsb_13472479014651244718.jpg', './input3/snsb_13472479014686830759.jpg', './input3/snsb_13472479014718025888.jpg', './input3/snsb_13472506057057382467.jpg', './input3/snsb_13472506057103454302.jpg', './input3/snsb_13472506057130455128.jpg', './input3/snsb_13472516860460085301.jpg', './input3/snsb_13472516860513366112.jpg', './input3/snsb_13472521089362178225.jpg', './input3/snsb_13472521089382953133.jpg', './input3/snsb_13472525411987230793.jpg', './input3/snsb_13472525411997716566.jpg', './input3/snsb_13472525412023341144.jpg', './input3/snsb_13472525412046278721.jpg', './input3/snsb_13472525412063252548.jpg', './input3/snsb_13472526591688978609.jpg', './input3/snsb_13472537962049908823.jpg', './input3/snsb_13472537962071470166.jpg', './input3/snsb_13472537962108629048.jpg', './input3/snsb_13472537962140151866.jpg', './input3/snsb_13472537962174820443.jpg', './input3/snsb_13472541924242174041.jpg', './input3/snsb_13472566111295713437.jpg', './input3/snsb_13472566111357382845.jpg', './input3/snsb_13472566111385694373.jpg', './input3/snsb_13472566111423246529.jpg', './input3/snsb_13472570715331244229.jpg', './input3/snsb_13472570715349332127.jpg', './input3/snsb_13472570715360800925.jpg', './input3/snsb_13472575460688597047.jpg', './input3/snsb_13472575460705046588.jpg', './input3/snsb_13472578258327318721.jpg', './input3/snsb_13472600484654755934.jpg', './input3/snsb_13472600484690538591.jpg', './input3/snsb_13472600484723503176.jpg', './input3/snsb_13472600484790480982.jpg', './input3/snsb_13472615149519122506.jpg', './input3/snsb_13472615149523841101.jpg', './input3/snsb_13472615149530591294.jpg', './input3/snsb_13472615149533474906.jpg', './input3/snsb_13472823733387989132.jpg', './input3/snsb_13472917138223607868.jpg', './input3/snsb_13472980162156703813.jpg', './input3/snsb_13472980162162733122.jpg', './input3/snsb_13473256849975218283.jpg', './input3/snsb_13473256849979936883.jpg', './input3/snsb_13473256849997631627.jpg', './input3/snsb_13473256850017292395.jpg', './input3/snsb_13473256850029809804.jpg', './input3/snsb_13473256850051305617.jpg', './input3/snsb_13473263316560588909.jpg', './input3/snsb_13473263316580380772.jpg', './input3/snsb_13473263316615377025.jpg', './input3/snsb_13473263316632744069.jpg', './input3/snsb_13473263316655878271.jpg', './input3/snsb_13473263316672721044.jpg', './input3/snsb_13473323146494283858.jpg', './input3/snsb_13473333423654711473.jpg', './input3/snsb_13473716101253771452.jpg', './input3/snsb_13473730629144293464.jpg', './input3/snsb_13473795065090551904.jpg', './input3/snsb_13473949135493607610.jpg', './input3/snsb_13474000776089440491.jpg', './input3/snsb_13474014960002019508.jpg', './input3/snsb_13474038910456049732.jpg', './input3/snsb_13474038910496419898.jpg', './input3/snsb_13474044404097953922.jpg', './input3/snsb_13474044404131573890.jpg', './input3/snsb_13474067188772253780.jpg', './input3/snsb_13474067188808233054.jpg', './input3/snsb_13474149337430569045.jpg', './input3/snsb_13474149337467859025.jpg', './input3/snsb_13474149337501675583.jpg', './input3/snsb_13474149337533067332.jpg', './input3/snsb_13474149337602273372.jpg', './input3/snsb_13474548806397399177.jpg', './input3/snsb_13474548806411948138.jpg', './input3/snsb_13474548806437179494.jpg', './input3/snsb_13474548806447009913.jpg', './input3/snsb_13474548806458806408.jpg', './input3/snsb_13474548806480105573.jpg', './input3/snsb_13474548806492819560.jpg', './input3/snsb_13474548806515626114.jpg', './input3/snsb_13474548806532337777.jpg', './input3/snsb_13474624145858826322.jpg', './input3/snsb_13474643058826874944.jpg', './input3/snsb_13474659430469808307.jpg', './input3/snsb_13474682428560191683.jpg', './input3/snsb_13474745126774575183.jpg', './input3/snsb_13474745126778966098.jpg', './input3/snsb_13474745126802559036.jpg', './input3/snsb_13474768397942198355.jpg', './input3/snsb_13474772245603758210.jpg', './input3/snsb_13474811215640342588.jpg', './input3/snsb_13474811215675207757.jpg', './input3/snsb_13474811215699783775.jpg', './input3/snsb_13474811215729930310.jpg', './input3/snsb_13474811215757652019.jpg', './input3/snsb_13474811215792123985.jpg', './input3/snsb_13474811215853465694.jpg', './input3/snsb_13474811215879286882.jpg', './input3/snsb_13475043449957912693.jpg', './input3/snsb_13475043449976918129.jpg', './input3/snsb_13475043449987469434.jpg', './input3/snsb_13475106339885355227.jpg', './input3/snsb_13475106339900362952.jpg', './input3/snsb_13475106339910914251.jpg', './input3/snsb_13475146570228379702.jpg', './input3/snsb_13475146570264162360.jpg', './input3/snsb_13475323357415878732.jpg', './input3/snsb_13475323357443862580.jpg', './input3/snsb_13475369191004909755.jpg', './input3/snsb_13475388033850806480.jpg', './input3/snsb_13475388033864962252.jpg', './input3/snsb_13475393429689077871.jpg', './input3/snsb_13475477947447062710.jpg', './input3/snsb_13475486766942924865.jpg', './input3/snsb_13475486766982180923.jpg', './input3/snsb_13475486767000858704.jpg', './input3/snsb_13475486767038738523.jpg', './input3/snsb_13475486767062003773.jpg', './input3/snsb_13475513633663291462.jpg', './input3/snsb_13475513633676333145.jpg', './input3/snsb_13475513633685442622.jpg', './input3/snsb_13475572777518116919.jpg', './input3/snsb_13475572777550819387.jpg', './input3/snsb_13475572777586536543.jpg', './input3/snsb_13475572777621860406.jpg', './input3/snsb_13475572777660395592.jpg', './input3/snsb_13475572777727897677.jpg', './input3/snsb_13475572777762566232.jpg', './input3/snsb_13475572777791729751.jpg', './input3/snsb_13475866667340214447.jpg', './input3/snsb_13475866667356663995.jpg', './input3/snsb_13475866667373965487.jpg', './input3/snsb_13475868912756535376.jpg', './input3/snsb_13475887030115053680.jpg', './input3/snsb_13475887030131896432.jpg', './input3/snsb_13476043173856227394.jpg', './input3/snsb_13476111714272948406.jpg', './input3/snsb_13476111714286973088.jpg', './input3/snsb_13476111714306896048.jpg', './input3/snsb_13476111714320527541.jpg', './input3/snsb_13476111714345758870.jpg', './input3/snsb_13476111714369155260.jpg', './input3/snsb_13476111714383311000.jpg', './input3/snsb_13476111714400088238.jpg', './input3/snsb_13476151265186754758.jpg', './input3/snsb_13476205624685899834.jpg', './input3/snsb_13476226116816154686.jpg', './input3/snsb_13476226116840992825.jpg', './input3/snsb_13476226116873826384.jpg', './input3/snsb_13476239058596925510.jpg', './input3/snsb_13476242490049499346.jpg', './input3/snsb_13476600840943571049.jpg', './input3/snsb_13476600840964149387.jpg', './input3/snsb_13476632431855481020.jpg', './input3/snsb_13476747830038179917.jpg', './input3/snsb_13476747830072258644.jpg', './input3/snsb_13476765235688452223.jpg', './input3/snsb_13476765235707588708.jpg', './input3/snsb_13476765235726397576.jpg', './input3/snsb_13476765235741733003.jpg', './input3/snsb_13476765235762638964.jpg', './input3/snsb_13476765235772731526.jpg', './input3/snsb_13476765235797110903.jpg', './input3/snsb_13476765235821293711.jpg', './input3/snsb_13476765235837743206.jpg', './input3/snsb_13476779446822907975.jpg', './input3/snsb_13476779446858625122.jpg', './input3/snsb_13476779446901157960.jpg', './input3/snsb_13476779446933205087.jpg', './input3/snsb_13476779446976720968.jpg', './input3/snsb_13476786093156020389.jpg', './input3/snsb_13476812069920714904.jpg', './input3/snsb_13476812069934870704.jpg', './input3/snsb_13476812069949157553.jpg', './input3/snsb_13476812069968883901.jpg', './input3/snsb_13476812069998178483.jpg', './input3/snsb_13476840277883621468.jpg', './input3/snsb_13476849828808110219.jpg', './input3/snsb_13476849828819054734.jpg', './input3/snsb_13476849828835766407.jpg', './input3/snsb_13476853514868101241.jpg', './input3/snsb_13476853514888613998.jpg', './input3/snsb_13476853514893987972.jpg', './input3/snsb_13476853514910306409.jpg', './input3/snsb_13476853514945695867.jpg', './input3/snsb_13476857137457475694.jpg', './input3/snsb_13476857137489588336.jpg', './input3/snsb_13476857137516195941.jpg', './input3/snsb_13476857137533038711.jpg', './input3/snsb_13476857137555452034.jpg', './input3/snsb_13476857307045113978.jpg', './input3/snsb_13476857307062743183.jpg', './input3/snsb_13476858422300455053.jpg', './input3/snsb_13476858422318018702.jpg', './input3/snsb_13476858422331453567.jpg', './input3/snsb_13476858422357799058.jpg', './input3/snsb_13476858422373593210.jpg', './input3/snsb_13476858422388666471.jpg', './input3/snsb_13476858422403149928.jpg', './input3/snsb_13476860687198531695.jpg', './input3/snsb_13476860687212687478.jpg', './input3/snsb_13476860687247093895.jpg', './input3/snsb_13476860687263084662.jpg', './input3/snsb_13476860687297425548.jpg', './input3/snsb_13476860687323574420.jpg', './input3/snsb_13476891969906749598.jpg', './input3/snsb_13476891969914548379.jpg', './input3/snsb_13476916211785216079.jpg', './input3/snsb_13476917779508179000.jpg', './input3/snsb_13476917779535310937.jpg', './input3/snsb_13476917779567161398.jpg', './input3/snsb_13476917779588526161.jpg', './input3/snsb_13476917779622080569.jpg', './input3/snsb_13476930185495056609.jpg', './input3/snsb_13476930185517011176.jpg', './input3/snsb_13476930185529069772.jpg', './input3/snsb_13476931210801393751.jpg', './input3/snsb_13476931210837635149.jpg', './input3/snsb_13476931210862342239.jpg', './input3/snsb_13476931210896486494.jpg', './input3/snsb_13476931210920931424.jpg', './input3/snsb_13476931210953240661.jpg', './input3/snsb_13476931210988695629.jpg', './input3/snsb_13476931552055070786.jpg', './input3/snsb_13476931552056447029.jpg', './input3/snsb_13476931552083054680.jpg', './input3/snsb_13476931552088756303.jpg', './input3/snsb_13476931552108941381.jpg', './input3/snsb_13476931552123359322.jpg', './input3/snsb_13476931552132272203.jpg', './input3/snsb_13476947862972870738.jpg', './input3/snsb_13476947862990368848.jpg', './input3/snsb_13476947863024644179.jpg', './input3/snsb_13476947863051251799.jpg', './input3/snsb_13476966745445838966.jpg', './input3/snsb_13476966745450229895.jpg', './input3/snsb_13476970801515860052.jpg', './input3/snsb_13476970801530802233.jpg', './input3/snsb_13476970801555116093.jpg', './input3/snsb_13476970801566191691.jpg', './input3/snsb_13476970801582379081.jpg', './input3/snsb_13476970801593782362.jpg', './input3/snsb_13476970801602302041.jpg', './input3/snsb_13476970801620062304.jpg', './input3/snsb_13476987215051632792.jpg', './input3/snsb_13476987215052353707.jpg', './input3/snsb_13477045309717098633.jpg', './input3/snsb_13477045309755437179.jpg', './input3/snsb_13477045309788205169.jpg', './input3/snsb_13477271092634923067.jpg', './input3/snsb_13477271092696789061.jpg', './input3/snsb_13477344054349541447.jpg', './input3/snsb_13477344054380736608.jpg', './input3/snsb_13477344054497980470.jpg', './input3/snsb_13477344054522687548.jpg', './input3/snsb_13477344054561157195.jpg', './input3/snsb_13477344054591172691.jpg', './input3/snsb_13477347591335194698.jpg', './input3/snsb_13477353657195507871.jpg', './input3/snsb_13477353657206911140.jpg', './input3/snsb_13477380853735632977.jpg', './input3/snsb_13477380853775675454.jpg', './input3/snsb_13477426551691030652.jpg', './input3/snsb_13477426551712198781.jpg', './input3/snsb_13477426551731138699.jpg', './input3/snsb_13477426551742410875.jpg', './input3/snsb_13477426551761219731.jpg', './input3/snsb_13477436054607310923.jpg', './input3/snsb_13477448899394408523.jpg', './input3/snsb_13477448899409219645.jpg', './input3/snsb_13477456139282354395.jpg', './input3/snsb_13477456139294019817.jpg', './input3/snsb_13477463724486037619.jpg', './input3/snsb_13477473268003123254.jpg', './input3/snsb_13477473268025995351.jpg', './input3/snsb_13477473899737067671.jpg', './input3/snsb_13477476073044062336.jpg', './input3/snsb_13477476073082204290.jpg', './input3/snsb_13477476073115365517.jpg', './input3/snsb_13477517970665320628.jpg', './input3/snsb_13477517970689700026.jpg', './input3/snsb_13477536734475595897.jpg', './input3/snsb_13477536734490407045.jpg', './input3/snsb_13477536734521471077.jpg', './input3/snsb_13477564307439890582.jpg', './input3/snsb_13477582822311932076.jpg', './input3/snsb_13477583382421770302.jpg', './input3/snsb_13477583382435926101.jpg', './input3/snsb_13477587022187671716.jpg', './input3/snsb_13477587022201499823.jpg', './input3/snsb_13477587022225551552.jpg', './input3/snsb_13477587022270902425.jpg', './input3/snsb_13477587022284468404.jpg', './input3/snsb_13477587022312386738.jpg', './input3/snsb_13477587022329819312.jpg', './input3/snsb_13477587022356754609.jpg', './input3/snsb_13477598474361450659.jpg', './input3/snsb_13477598474392907949.jpg', './input3/snsb_13477601486734962829.jpg', './input3/snsb_13477601486750298252.jpg', './input3/snsb_13477601486775988362.jpg', './input3/snsb_13477601486793093236.jpg', './input3/snsb_13477601486818062474.jpg', './input3/snsb_13477601486839296115.jpg', './input3/snsb_13477601486851879028.jpg', './input3/snsb_13477601486883401873.jpg', './input3/snsb_13477601486893691011.jpg', './input3/snsb_13477622604035666115.jpg', './input3/snsb_13477633183461814323.jpg', './input3/snsb_13477633183511752784.jpg', './input3/snsb_13477637669815791678.jpg', './input3/snsb_13477637669852033110.jpg', './input3/snsb_13477637669927530587.jpg', './input3/snsb_13477637669959774295.jpg', './input3/snsb_13477637669978648635.jpg', './input3/snsb_13477637670003879995.jpg', './input3/snsb_13477637670048510007.jpg', './input3/snsb_13477643699565965471.jpg', './input3/snsb_13477643699596374204.jpg', './input3/snsb_13477647810474094788.jpg', './input3/snsb_13477647810504110268.jpg', './input3/snsb_13477647810522919099.jpg', './input3/snsb_13477647810558177471.jpg', './input3/snsb_13477656238971695167.jpg', './input3/snsb_13477688011824435289.jpg']\n"
     ]
    }
   ],
   "source": [
    "with open('test.txt', 'r') as f:\n",
    "    test_img_path=[]\n",
    "    for line in f:\n",
    "        test_img_path.append(line.strip())\n",
    "print(test_img_path)"
   ]
  },
  {
   "cell_type": "markdown",
   "metadata": {
    "collapsed": false
   },
   "source": [
    "测试一个一个↓"
   ]
  },
  {
   "cell_type": "code",
   "execution_count": null,
   "metadata": {
    "collapsed": false
   },
   "outputs": [
    {
     "name": "stderr",
     "output_type": "stream",
     "text": [
      "\u001b[32m[2021-01-10 20:48:03,711] [    INFO] - Installing ultra_light_fast_generic_face_detector_1mb_320 module\u001b[0m\n",
      "\u001b[32m[2021-01-10 20:48:03,808] [    INFO] - Module ultra_light_fast_generic_face_detector_1mb_320 already installed in /home/aistudio/.paddlehub/modules/ultra_light_fast_generic_face_detector_1mb_320\u001b[0m\n"
     ]
    }
   ],
   "source": [
    "import paddlehub as hub\n",
    "\n",
    "#module = hub.Module(name=\"ultra_light_fast_generic_face_detector_1mb_640\")\n",
    "module = hub.Module(name=\"ultra_light_fast_generic_face_detector_1mb_320\")"
   ]
  },
  {
   "cell_type": "code",
   "execution_count": null,
   "metadata": {
    "collapsed": false
   },
   "outputs": [
    {
     "name": "stdout",
     "output_type": "stream",
     "text": [
      "\r"
     ]
    }
   ],
   "source": [
    "with open('test.txt', 'r') as f:\r\n",
    "    test_img_path=\"\"\r\n",
    "    for line in f:\r\n",
    "        print(line.strip())\r\n",
    "        imgpath=[line.strip()]\r\n",
    "        print(imgpath)\r\n",
    "        imgpath2={\"image\": imgpath}\r\n",
    "        print(imgpath2)\r\n",
    "        \r\n",
    "        try:\r\n",
    "            results = module.face_detection(data=imgpath2, visualization=True)\r\n",
    "        except AttributeError:\r\n",
    "            print(\"出错啦\")\r\n",
    "        print(results)\r\n",
    "print(test_img_path)"
   ]
  },
  {
   "cell_type": "markdown",
   "metadata": {
    "collapsed": false
   },
   "source": [
    "## 二、加载预训练模型\n",
    "\n",
    "Ultra-Light-Fast-Generic-Face-Detector-1MB提供了两种预训练模型，ultra_light_fast_generic_face_detector_1mb_320和ultra_light_fast_generic_face_detector_1mb_640。\n",
    "\n",
    "+ ultra_light_fast_generic_face_detector_1mb_320，在预测时会将图片输入缩放为320 * 240，预测速度更快。关于该模型更多介绍， 查看[PaddleHub官网介绍](https://www.paddlepaddle.org.cn/hubdetail?name=ultra_light_fast_generic_face_detector_1mb_320&en_category=ObjectDetection)\n",
    "+ ultra_light_fast_generic_face_detector_1mb_640，在预测时会将图片输入缩放为640 * 480，预测精度更高。关于该模型更多介绍， 查看[PaddleHub官网介绍](https://www.paddlepaddle.org.cn/hubdetail?name=ultra_light_fast_generic_face_detector_1mb_640&en_category=ObjectDetection)\n",
    "\n",
    "用户根据需要，选择具体模型。利用PaddleHub使用该模型时，只需更改指定name，即可实现无缝切换。"
   ]
  },
  {
   "cell_type": "markdown",
   "metadata": {
    "collapsed": false
   },
   "source": [
    "## 三、预测\n",
    "\n",
    "\n",
    "PaddleHub对于支持一键预测的module，可以调用module的相应预测API，完成预测功能。"
   ]
  },
  {
   "cell_type": "code",
   "execution_count": null,
   "metadata": {
    "collapsed": false
   },
   "outputs": [],
   "source": [
    "!ls -R ./face_detector_320_predict_output/*.jpg  > file.txt\r\n",
    "! sed -i 's/.\\/face_detector_320_predict_output\\///g' ./file.txt"
   ]
  },
  {
   "cell_type": "code",
   "execution_count": null,
   "metadata": {
    "collapsed": false
   },
   "outputs": [
    {
     "name": "stdout",
     "output_type": "stream",
     "text": [
      "./out/\r"
     ]
    }
   ],
   "source": [
    "import shutil\r\n",
    "import os\r\n",
    "\r\n",
    "with open('./file.txt', 'r') as f:\r\n",
    "    test_img_path=[]\r\n",
    "    for line in f:\r\n",
    "        print(line.strip())\r\n",
    "        naame = \"./input/\"+line.strip()\r\n",
    "        print(naame)\r\n",
    "        target = './out/'\r\n",
    "        print(target)\r\n",
    "        shutil.copy2(naame,target)\r\n",
    "#print(test_img_path)"
   ]
  },
  {
   "cell_type": "code",
   "execution_count": 21,
   "metadata": {
    "collapsed": false
   },
   "outputs": [
    {
     "name": "stdout",
     "output_type": "stream",
     "text": [
      "  adding: out/snsb_13416738144394743985.jpg"
     ]
    }
   ],
   "source": [
    "!rm faceoutput.zip \r\n",
    "!zip -r faceoutput2.zip out"
   ]
  }
 ],
 "metadata": {
  "kernelspec": {
   "display_name": "PaddlePaddle 1.7.2 (Python 3.5)",
   "language": "python",
   "name": "py35-paddle1.2.0"
  },
  "language_info": {
   "codemirror_mode": {
    "name": "ipython",
    "version": 3
   },
   "file_extension": ".py",
   "mimetype": "text/x-python",
   "name": "python",
   "nbconvert_exporter": "python",
   "pygments_lexer": "ipython3",
   "version": "3.7.4"
  }
 },
 "nbformat": 4,
 "nbformat_minor": 1
}
